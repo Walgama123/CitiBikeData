{
 "cells": [
  {
   "cell_type": "code",
   "execution_count": 1,
   "id": "07f88cbb-15bd-4d85-b51d-da502fc52e7d",
   "metadata": {},
   "outputs": [],
   "source": [
    "import pandas as pd\n",
    "import numpy as np\n"
   ]
  },
  {
   "cell_type": "code",
   "execution_count": null,
   "id": "09c1300a-1ca0-4e8d-a76d-b602fbddf101",
   "metadata": {},
   "outputs": [],
   "source": [
    "# Path to your large CSV file\n",
    "# This is the file your created by merging all the yearly data(12 months) using the “MergeCSV.ipynb” notebook.\n",
    "file_path = 'Your CSV file.csv'\n",
    "\n",
    "# Load the CSV file in chunks\n",
    "chunk_size = 10**6  # Adjust chunk size as needed\n",
    "csv_reader = pd.read_csv(file_path, chunksize=chunk_size)\n",
    "\n",
    "# Placeholder for monthly data frames\n",
    "monthly_data = {month: [] for month in range(1, 13)}\n",
    "total_counts = {month: 0 for month in range(1, 13)}\n",
    "\n",
    "# Process each chunk\n",
    "for chunk in csv_reader:\n",
    "    # Assuming the CSV has a 'started_at' column in datetime format\n",
    "    chunk['started_at'] = pd.to_datetime(chunk['started_at'])\n",
    "    for month in range(1, 13):\n",
    "        monthly_chunk = chunk[chunk['started_at'].dt.month == month]\n",
    "        if not monthly_chunk.empty:\n",
    "            monthly_data[month].append(monthly_chunk)\n",
    "            total_counts[month] += len(monthly_chunk)\n",
    "\n",
    "# Combine all chunks for each month into one DataFrame per month\n",
    "for month in range(1, 13):\n",
    "    if monthly_data[month]:\n",
    "        monthly_data[month] = pd.concat(monthly_data[month])\n",
    "\n",
    "# Calculate total size of the combined data\n",
    "total_size = sum(df.memory_usage(deep=True).sum() for df in monthly_data.values() if isinstance(df, pd.DataFrame))\n",
    "\n",
    "# Determine the sample size for each month\n",
    "sample_sizes = {month: int((count / total_size) * (900 * 10**6)) for month, count in total_counts.items()}\n",
    "\n",
    "# Placeholder for the sampled data\n",
    "sampled_data = []\n",
    "\n",
    "# Sample data proportionately\n",
    "for month in range(1, 13):\n",
    "    if isinstance(monthly_data[month], pd.DataFrame):\n",
    "        sample_size = min(len(monthly_data[month]), sample_sizes[month])\n",
    "        sampled_data.append(monthly_data[month].sample(n=sample_size, random_state=1))\n",
    "\n",
    "# Combine all sampled data into one DataFrame\n",
    "final_sample_df = pd.concat(sampled_data)\n",
    "\n",
    "# Save the sampled data into one CSV file\n",
    "final_sample_df.to_csv('your sample file here.csv', index=False)"
   ]
  },
  {
   "cell_type": "code",
   "execution_count": null,
   "id": "2e404b96-e7aa-4b64-9998-36615a437989",
   "metadata": {},
   "outputs": [],
   "source": []
  }
 ],
 "metadata": {
  "kernelspec": {
   "display_name": "Python 3 (ipykernel)",
   "language": "python",
   "name": "python3"
  },
  "language_info": {
   "codemirror_mode": {
    "name": "ipython",
    "version": 3
   },
   "file_extension": ".py",
   "mimetype": "text/x-python",
   "name": "python",
   "nbconvert_exporter": "python",
   "pygments_lexer": "ipython3",
   "version": "3.11.7"
  }
 },
 "nbformat": 4,
 "nbformat_minor": 5
}
