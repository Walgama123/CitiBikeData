{
 "cells": [
  {
   "cell_type": "code",
   "execution_count": 1,
   "id": "07f88cbb-15bd-4d85-b51d-da502fc52e7d",
   "metadata": {},
   "outputs": [],
   "source": [
    "import os\n",
    "import pandas as pd\n",
    "import json\n"
   ]
  },
  {
   "cell_type": "markdown",
   "id": "b9f15048-a2b1-4c41-839b-efcb64ceb1af",
   "metadata": {},
   "source": [
    "City bike data is available in https://citibikenyc.com/system-data . Go to the historical data page (https://s3.amazonaws.com/tripdata/index.html) and select a zip data file you want. Unzip the data in to local computer folder where your jupyter notebooks are saved. \n",
    "\r\n",
    "**This notebook can merge only monthly data of one year.\n",
    "\n",
    "Note: Also that the data structure has changed over time, so it may be simpler for you to select data that uses the same columns across multiple files, preferably from within the past year."
   ]
  },
  {
   "cell_type": "code",
   "execution_count": null,
   "id": "09c1300a-1ca0-4e8d-a76d-b602fbddf101",
   "metadata": {},
   "outputs": [],
   "source": [
    "# Specify the folder containing the CSV files\n",
    "Months=['1_January','2_February','3_March','4_April','5_May','6_June','7_July','8_August','9_September','10_October','11_November','12_December']\n",
    "data_frames = []\n",
    "ParentPath='Your Data folder here/'\n",
    "           \n",
    "for month in Months:\n",
    "    folder_path=(f'{ParentPath}{month}')\n",
    "    # Get a list of all CSV files in the folder\n",
    "    csv_files = [f for f in os.listdir(folder_path) if f.endswith('.csv')]\n",
    "    # Read each CSV file and append it to the list of data frames\n",
    "    for file in csv_files:\n",
    "        file_path = os.path.join(folder_path, file)\n",
    "        df = pd.read_csv(file_path)\n",
    "        data_frames.append(df)\n",
    "   "
   ]
  },
  {
   "cell_type": "code",
   "execution_count": 3,
   "id": "4c8c29a2-acc1-4ed5-95da-b140a5989061",
   "metadata": {},
   "outputs": [],
   "source": [
    "# Concatenate all data frames into a single data frame\n",
    "merged_df = pd.concat(data_frames, ignore_index=True)"
   ]
  },
  {
   "cell_type": "code",
   "execution_count": 4,
   "id": "a13ac157-6b46-4769-bac3-c902f9e2410b",
   "metadata": {},
   "outputs": [],
   "source": [
    "#Save merged file to a CSV\n",
    "merged_df.to_csv(\"Your CSV File Here.csv\",index=False)"
   ]
  }
 ],
 "metadata": {
  "kernelspec": {
   "display_name": "Python 3 (ipykernel)",
   "language": "python",
   "name": "python3"
  },
  "language_info": {
   "codemirror_mode": {
    "name": "ipython",
    "version": 3
   },
   "file_extension": ".py",
   "mimetype": "text/x-python",
   "name": "python",
   "nbconvert_exporter": "python",
   "pygments_lexer": "ipython3",
   "version": "3.11.7"
  }
 },
 "nbformat": 4,
 "nbformat_minor": 5
}
